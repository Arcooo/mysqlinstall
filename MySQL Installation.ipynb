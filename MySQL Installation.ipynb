{
 "cells": [
  {
   "cell_type": "raw",
   "metadata": {},
   "source": [
    "!pip install mysql-connector-python\n"
   ]
  },
  {
   "cell_type": "code",
   "execution_count": 11,
   "metadata": {},
   "outputs": [
    {
     "name": "stdout",
     "output_type": "stream",
     "text": [
      "Connected to MySQL Server version  8.0.18\n",
      "You're connected to database:  ('mysql',)\n",
      "Laptop Table created successfully \n",
      "MySQL connection is closed\n"
     ]
    }
   ],
   "source": [
    "import mysql.connector\n",
    "from mysql.connector import Error\n",
    "\n",
    "\n",
    "try:\n",
    "    cnx = mysql.connector.connect(user='root', password='secretPassword12!',\n",
    "                                  host='127.0.0.1',\n",
    "                                  database='mysql')\n",
    "\n",
    "    if cnx.is_connected():\n",
    "        db_Info = cnx.get_server_info()\n",
    "        print(\"Connected to MySQL Server version \", db_Info)\n",
    "        cursor = cnx.cursor()\n",
    "        cursor.execute(\"select database();\")\n",
    "        record = cursor.fetchone()\n",
    "        print(\"You're connected to database: \", record)\n",
    "        \n",
    "    mySql_Create_Table_Query = \"\"\"CREATE TABLE Laptop ( \n",
    "                             Id int(11) NOT NULL,\n",
    "                             Name varchar(250) NOT NULL,\n",
    "                             Price float NOT NULL,\n",
    "                             Purchase_date Date NOT NULL,\n",
    "                             PRIMARY KEY (Id)) \"\"\"\n",
    "    cursor = cnx.cursor()\n",
    "    result = cursor.execute(mySql_Create_Table_Query)\n",
    "    print(\"Laptop Table created successfully \")\n",
    "        \n",
    "        \n",
    "        \n",
    "\n",
    "except mysql.connector.Error as error:\n",
    "    print(\"Failed to create table in MySQL: {}\".format(error))\n",
    "finally:\n",
    "    if (cnx.is_connected()):\n",
    "        cursor.close()\n",
    "        cnx.close()\n",
    "        print(\"MySQL connection is closed\")    \n",
    "    \n",
    "\n",
    "\n"
   ]
  },
  {
   "cell_type": "code",
   "execution_count": 13,
   "metadata": {},
   "outputs": [
    {
     "name": "stdout",
     "output_type": "stream",
     "text": [
      "1 Record inserted successfully into Laptop table\n",
      "MySQL connection is closed\n"
     ]
    }
   ],
   "source": [
    "import mysql.connector\n",
    "from mysql.connector import Error\n",
    "from mysql.connector import errorcode\n",
    "\n",
    "try:\n",
    "    connection = mysql.connector.connect(user='root', password='secretPassword12!',\n",
    "                                  host='127.0.0.1',\n",
    "                                  database='mysql')\n",
    "    mySql_insert_query = \"\"\"INSERT INTO Laptop (Id, Name, Price, Purchase_date) \n",
    "                           VALUES \n",
    "                           (10, 'Lenovo ThinkPad P71', 6459, '2019-08-14') \"\"\"\n",
    "\n",
    "    cursor = connection.cursor()\n",
    "    cursor.execute(mySql_insert_query)\n",
    "    connection.commit()\n",
    "    print(cursor.rowcount, \"Record inserted successfully into Laptop table\")\n",
    "    cursor.close()\n",
    "\n",
    "except mysql.connector.Error as error:\n",
    "    print(\"Failed to insert record into Laptop table {}\".format(error))\n",
    "\n",
    "finally:\n",
    "    if (connection.is_connected()):\n",
    "        connection.close()\n",
    "        print(\"MySQL connection is closed\")"
   ]
  },
  {
   "cell_type": "code",
   "execution_count": 14,
   "metadata": {},
   "outputs": [
    {
     "name": "stdout",
     "output_type": "stream",
     "text": [
      "Total number of rows in Laptop is:  1\n",
      "\n",
      "Printing each laptop record\n",
      "Id =  10\n",
      "Name =  Lenovo ThinkPad P71\n",
      "Price  =  6459.0\n",
      "Purchase date  =  2019-08-14 \n",
      "\n",
      "MySQL connection is closed\n"
     ]
    }
   ],
   "source": [
    "import mysql.connector\n",
    "from mysql.connector import Error\n",
    "\n",
    "try:\n",
    "    connection = mysql.connector.connect(user='root', password='secretPassword12!',\n",
    "                                  host='127.0.0.1',\n",
    "                                  database='mysql')\n",
    "\n",
    "    sql_select_Query = \"select * from Laptop\"\n",
    "    cursor = connection.cursor()\n",
    "    cursor.execute(sql_select_Query)\n",
    "    records = cursor.fetchall()\n",
    "    print(\"Total number of rows in Laptop is: \", cursor.rowcount)\n",
    "\n",
    "    print(\"\\nPrinting each laptop record\")\n",
    "    for row in records:\n",
    "        print(\"Id = \", row[0], )\n",
    "        print(\"Name = \", row[1])\n",
    "        print(\"Price  = \", row[2])\n",
    "        print(\"Purchase date  = \", row[3], \"\\n\")\n",
    "\n",
    "except Error as e:\n",
    "    print(\"Error reading data from MySQL table\", e)\n",
    "finally:\n",
    "    if (connection.is_connected()):\n",
    "        connection.close()\n",
    "        cursor.close()\n",
    "        print(\"MySQL connection is closed\")"
   ]
  },
  {
   "cell_type": "code",
   "execution_count": null,
   "metadata": {},
   "outputs": [],
   "source": []
  }
 ],
 "metadata": {
  "kernelspec": {
   "display_name": "Python 3",
   "language": "python",
   "name": "python3"
  },
  "language_info": {
   "codemirror_mode": {
    "name": "ipython",
    "version": 3
   },
   "file_extension": ".py",
   "mimetype": "text/x-python",
   "name": "python",
   "nbconvert_exporter": "python",
   "pygments_lexer": "ipython3",
   "version": "3.7.0"
  }
 },
 "nbformat": 4,
 "nbformat_minor": 2
}
